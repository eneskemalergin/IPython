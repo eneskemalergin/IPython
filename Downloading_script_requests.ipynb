{
 "metadata": {
  "name": "",
  "signature": "sha256:bafd4af07fec884c9ce7d965a587f7f67386151e3f69e0065daf881e5b32ac13"
 },
 "nbformat": 3,
 "nbformat_minor": 0,
 "worksheets": [
  {
   "cells": [
    {
     "cell_type": "code",
     "collapsed": false,
     "input": [
      "url = 'http://www.blog.pythonlibrary.org/wp-content/uploads/2012/06/wxDbViewer.zip'\n"
     ],
     "language": "python",
     "metadata": {},
     "outputs": [],
     "prompt_number": 1
    },
    {
     "cell_type": "code",
     "collapsed": false,
     "input": [
      "# Usage of requests for downloading content from webpage.\n",
      "# This version is extracting the zip after saving the zip into file\n",
      "import requests\n",
      "import zipfile\n",
      "print (\"downloading with requests\")\n",
      "r = requests.get(url)\n",
      "with open(\"code3.zip\", \"wb\") as code:\n",
      "    code.write(r.content)\n",
      "open_zip = open('code3.zip', 'rb')\n",
      "z = zipfile.ZipFile(open_zip)\n",
      "for i in z.namelist():\n",
      "    outpath = \"C:\\\\Users\\\\Pc-41\\\\Desktop\\\\Ipython\"\n",
      "    z.extract(i, outpath)\n",
      "open_zip.close()\n",
      "# for Extracting everything itn that folder..\n",
      "# with zipfile.ZipFile('test.zip', 'r') as z_file:\n",
      "#    z_file.extractall(\"C:\\\\Users\\\\Pc-41\\\\Desktop\\\\Ipython\")"
     ],
     "language": "python",
     "metadata": {},
     "outputs": [
      {
       "output_type": "stream",
       "stream": "stdout",
       "text": [
        "downloading with requests\n"
       ]
      }
     ],
     "prompt_number": 3
    },
    {
     "cell_type": "code",
     "collapsed": false,
     "input": [],
     "language": "python",
     "metadata": {},
     "outputs": []
    }
   ],
   "metadata": {}
  }
 ]
}