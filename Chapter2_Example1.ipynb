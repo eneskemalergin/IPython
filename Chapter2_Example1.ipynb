{
 "metadata": {
  "name": "",
  "signature": "sha256:976cc6d18d57097e9edfbbd92808e5df465e1b00e210cdad1dc4fedbbed4f505"
 },
 "nbformat": 3,
 "nbformat_minor": 0,
 "worksheets": [
  {
   "cells": [
    {
     "cell_type": "code",
     "collapsed": false,
     "input": [
      "## Navigating through the filesystem\n",
      "\"\"\"Here, we will show how we can download and extract compressed files from the\n",
      "Internet, navigate in a filesystem hierarchy, and open text files from IPython.\n",
      "\"\"\"\n"
     ],
     "language": "python",
     "metadata": {},
     "outputs": [
      {
       "metadata": {},
       "output_type": "pyout",
       "prompt_number": 1,
       "text": [
        "'Here, we will show how we can download and extract compressed files from the\\nInternet, navigate in a filesystem hierarchy, and open text files from IPython.\\n'"
       ]
      }
     ],
     "prompt_number": 1
    },
    {
     "cell_type": "code",
     "collapsed": false,
     "input": [
      "import urllib2, zipfile\n",
      "url = \"http://ipython.rossant.net/\"\n",
      "fname = \"facebook.zip\"\n",
      "download = urllib2.urlopen(url + fname)\n",
      "# Now we downloaded the file in the memory, we will save it to the hard drive."
     ],
     "language": "python",
     "metadata": {},
     "outputs": [],
     "prompt_number": 4
    },
    {
     "cell_type": "code",
     "collapsed": false,
     "input": [
      "# Creates a new folder called data\n",
      "# It will work on command line...\n",
      "folder = \"data\"\n",
      "mkdir $folder\n",
      "cd $folder\n"
     ],
     "language": "python",
     "metadata": {},
     "outputs": [
      {
       "ename": "SyntaxError",
       "evalue": "invalid syntax (<ipython-input-5-73171536e1bd>, line 3)",
       "output_type": "pyerr",
       "traceback": [
        "\u001b[1;36m  File \u001b[1;32m\"<ipython-input-5-73171536e1bd>\"\u001b[1;36m, line \u001b[1;32m3\u001b[0m\n\u001b[1;33m    mkdir $folder\u001b[0m\n\u001b[1;37m          ^\u001b[0m\n\u001b[1;31mSyntaxError\u001b[0m\u001b[1;31m:\u001b[0m invalid syntax\n"
       ]
      }
     ],
     "prompt_number": 5
    },
    {
     "cell_type": "code",
     "collapsed": false,
     "input": [
      "with open(filename, 'wb') as f:\n",
      "    f.write(downloaded.read())\n",
      "with zipfile.ZipFile(filename) as zip:\n",
      "    zip.extractall('.')"
     ],
     "language": "python",
     "metadata": {},
     "outputs": []
    },
    {
     "cell_type": "code",
     "collapsed": false,
     "input": [
      "# Checking...\n",
      "ls\n",
      "cd facebook\n",
      "ls\n",
      "# Bookmarks the file location...\n",
      "%bookmark fbdata"
     ],
     "language": "python",
     "metadata": {},
     "outputs": []
    }
   ],
   "metadata": {}
  }
 ]
}