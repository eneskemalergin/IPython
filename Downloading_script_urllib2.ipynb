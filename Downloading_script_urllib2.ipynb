{
 "metadata": {
  "name": "",
  "signature": "sha256:8cec5fcd6abbc299c849ce6b2fe3e18b1def7a989f8dd296530127084a464eb2"
 },
 "nbformat": 3,
 "nbformat_minor": 0,
 "worksheets": [
  {
   "cells": [
    {
     "cell_type": "code",
     "collapsed": false,
     "input": [
      "url = 'http://www.blog.pythonlibrary.org/wp-content/uploads/2012/06/wxDbViewer.zip'\n"
     ],
     "language": "python",
     "metadata": {},
     "outputs": [],
     "prompt_number": 1
    },
    {
     "cell_type": "code",
     "collapsed": false,
     "input": [
      "# Usage of urllib2 for downloading content from webpage.\n",
      "# This version is extracting the zip after saving the zip into file\n",
      "import urllib2\n",
      "import zipfile\n",
      "print(\"Downloading with urllib2\")\n",
      "f = urllib2.urlopen(url)\n",
      "data = f.read()\n",
      "with open(\"code2.zip\", \"wb\") as code:\n",
      "    code.write(data)\n",
      "open_zip = open('code2.zip', 'rb')\n",
      "z = zipfile.ZipFile(open_zip)\n",
      "for i in z.namelist():\n",
      "    outpath = \"C:\\\\Users\\\\Pc-41\\\\Desktop\\\\Ipython\"\n",
      "    z.extract(i, outpath)\n",
      "open_zip.close()\n",
      "# for Extracting everything itn that folder..\n",
      "# with zipfile.ZipFile('test.zip', 'r') as z_file:\n",
      "#    z_file.extractall(\"C:\\\\Users\\\\Pc-41\\\\Desktop\\\\Ipython\")"
     ],
     "language": "python",
     "metadata": {},
     "outputs": [
      {
       "output_type": "stream",
       "stream": "stdout",
       "text": [
        "Downloading with urllib2\n"
       ]
      }
     ],
     "prompt_number": 3
    },
    {
     "cell_type": "code",
     "collapsed": false,
     "input": [],
     "language": "python",
     "metadata": {},
     "outputs": []
    }
   ],
   "metadata": {}
  }
 ]
}