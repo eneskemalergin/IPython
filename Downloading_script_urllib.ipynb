{
 "metadata": {
  "name": "",
  "signature": "sha256:a6b5667a2588a7258f1fa14bbd47407c23d9ed2c160380dcdb0f5bb7afbd26e7"
 },
 "nbformat": 3,
 "nbformat_minor": 0,
 "worksheets": [
  {
   "cells": [
    {
     "cell_type": "code",
     "collapsed": false,
     "input": [
      "url = 'http://www.blog.pythonlibrary.org/wp-content/uploads/2012/06/wxDbViewer.zip'"
     ],
     "language": "python",
     "metadata": {},
     "outputs": [],
     "prompt_number": 4
    },
    {
     "cell_type": "code",
     "collapsed": false,
     "input": [
      "# Usage of urllib for downloading content from webpage.\n",
      "# This version is extracting the zip before it saved into the file\n",
      "import urllib\n",
      "import zipfile\n",
      "print(\"downloading with urllib\")\n",
      "urllib.urlretrieve(url, \"code.zip\")\n",
      "open_zip = open('code.zip', 'rb')\n",
      "z = zipfile.ZipFile(open_zip)\n",
      "for i in z.namelist():\n",
      "    outpath = \"C:\\\\Users\\\\Pc-41\\\\Desktop\\\\Ipython\"\n",
      "    z.extract(i, outpath)\n",
      "open_zip.close()\n",
      "# for Extracting everything itn that folder..\n",
      "# with zipfile.ZipFile('test.zip', 'r') as z_file:\n",
      "#    z_file.extractall(\"C:\\\\Users\\\\Pc-41\\\\Desktop\\\\Ipython\")"
     ],
     "language": "python",
     "metadata": {},
     "outputs": [
      {
       "output_type": "stream",
       "stream": "stdout",
       "text": [
        "downloading with urllib\n"
       ]
      }
     ],
     "prompt_number": 5
    },
    {
     "cell_type": "code",
     "collapsed": false,
     "input": [],
     "language": "python",
     "metadata": {},
     "outputs": []
    }
   ],
   "metadata": {}
  }
 ]
}