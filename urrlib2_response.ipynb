{
 "metadata": {
  "name": "",
  "signature": "sha256:58cabd983f5a38fa0d54f857b3203b5d1f9156edf48ddc8bf025f6f71d9b11f2"
 },
 "nbformat": 3,
 "nbformat_minor": 0,
 "worksheets": [
  {
   "cells": [
    {
     "cell_type": "code",
     "collapsed": false,
     "input": [
      "# This is very basic intro to how to deal with URLs."
     ],
     "language": "python",
     "metadata": {},
     "outputs": [],
     "prompt_number": 12
    },
    {
     "cell_type": "code",
     "collapsed": false,
     "input": [
      "import urllib2 # Library to control urls.\n",
      "\n",
      "response = urllib2.urlopen(\"http://www.radyocihan.com\")\n",
      "\n",
      "print response.info()"
     ],
     "language": "python",
     "metadata": {},
     "outputs": [
      {
       "output_type": "stream",
       "stream": "stdout",
       "text": [
        "Date: Mon, 09 Feb 2015 00:13:17 GMT\r\n",
        "Server: Apache/2.2.22 (Ubuntu)\r\n",
        "X-Powered-By: PHP/5.3.10-1ubuntu3.15\r\n",
        "Set-Cookie: radyocihan=j049bi639hapd8t0ss8qm1s5j0; path=/\r\n",
        "Expires: Thu, 19 Nov 1981 08:52:00 GMT\r\n",
        "Cache-Control: no-store, no-cache, must-revalidate, post-check=0, pre-check=0\r\n",
        "Pragma: no-cache\r\n",
        "Set-Cookie: radyocihan=tmkqdfk5cfqm85qktthd0i6t53; path=/\r\n",
        "Vary: Accept-Encoding\r\n",
        "Connection: close\r\n",
        "Transfer-Encoding: chunked\r\n",
        "Content-Type: text/html\r\n",
        "\n"
       ]
      }
     ],
     "prompt_number": 1
    },
    {
     "cell_type": "code",
     "collapsed": false,
     "input": [
      "import urllib2\n",
      "response = urllib2.urlopen(\"http://www.radyocihan.com\")\n",
      "print \"Response:\", response"
     ],
     "language": "python",
     "metadata": {},
     "outputs": [
      {
       "output_type": "stream",
       "stream": "stdout",
       "text": [
        "Response: <addinfourl at 165072456L whose fp = <socket._fileobject object at 0x0000000009D644F8>>\n"
       ]
      }
     ],
     "prompt_number": 2
    },
    {
     "cell_type": "code",
     "collapsed": false,
     "input": [
      "print \"The URL is: \", response.geturl()"
     ],
     "language": "python",
     "metadata": {},
     "outputs": [
      {
       "output_type": "stream",
       "stream": "stdout",
       "text": [
        "The URL is:  http://www.radyocihan.com\n"
       ]
      }
     ],
     "prompt_number": 3
    },
    {
     "cell_type": "code",
     "collapsed": false,
     "input": [
      "print \"This gets the code: \", response.code"
     ],
     "language": "python",
     "metadata": {},
     "outputs": [
      {
       "output_type": "stream",
       "stream": "stdout",
       "text": [
        "This gets the code:  200\n"
       ]
      }
     ],
     "prompt_number": 4
    },
    {
     "cell_type": "code",
     "collapsed": false,
     "input": [
      "print \"The Headers  are: \", response.info()"
     ],
     "language": "python",
     "metadata": {},
     "outputs": [
      {
       "output_type": "stream",
       "stream": "stdout",
       "text": [
        "The Headers  are:  Date: Mon, 09 Feb 2015 00:14:14 GMT\r\n",
        "Server: Apache/2.2.22 (Ubuntu)\r\n",
        "X-Powered-By: PHP/5.3.10-1ubuntu3.15\r\n",
        "Set-Cookie: radyocihan=45jtcuo77miulb4r8l6djudk56; path=/\r\n",
        "Expires: Thu, 19 Nov 1981 08:52:00 GMT\r\n",
        "Cache-Control: no-store, no-cache, must-revalidate, post-check=0, pre-check=0\r\n",
        "Pragma: no-cache\r\n",
        "Set-Cookie: radyocihan=iieq6d9a1ndch7r0gveomnijd0; path=/\r\n",
        "Vary: Accept-Encoding\r\n",
        "Connection: close\r\n",
        "Transfer-Encoding: chunked\r\n",
        "Content-Type: text/html\r\n",
        "\n"
       ]
      }
     ],
     "prompt_number": 5
    },
    {
     "cell_type": "code",
     "collapsed": false,
     "input": [
      "# Get the date part of the header\n",
      "print \"The Date is: \", response.info()['date']"
     ],
     "language": "python",
     "metadata": {},
     "outputs": [
      {
       "output_type": "stream",
       "stream": "stdout",
       "text": [
        "The Date is:  Mon, 09 Feb 2015 00:14:14 GMT\n"
       ]
      }
     ],
     "prompt_number": 6
    },
    {
     "cell_type": "code",
     "collapsed": false,
     "input": [
      "# Get the server part of the header\n",
      "print \"The Server is: \", response.info()['server']"
     ],
     "language": "python",
     "metadata": {},
     "outputs": [
      {
       "output_type": "stream",
       "stream": "stdout",
       "text": [
        "The Server is:  Apache/2.2.22 (Ubuntu)\n"
       ]
      }
     ],
     "prompt_number": 7
    },
    {
     "cell_type": "code",
     "collapsed": false,
     "input": [
      "html = response.read()\n",
      "print \"Get all data: \", html"
     ],
     "language": "python",
     "metadata": {},
     "outputs": [
      {
       "output_type": "stream",
       "stream": "stdout",
       "text": [
        "Get all data:  <!DOCTYPE html><!--[if IE 8]>\n",
        "<html lang=\"en\" class=\"ie8\"> <![endif]-->\n",
        "<!--[if IE 9]>\n",
        "<html lang=\"en\" class=\"ie9\"> <![endif]-->\n",
        "<!--[if !IE]><!-->\n",
        "<html lang=\"en\"> <!--<![endif]-->\n",
        "<head>\n",
        "    <title>Radyo Cihan</title>\n",
        "    <!-- Meta -->\n",
        "    <meta name=\"viewport\" content=\"width=device-width, initial-scale=1.0\">\n",
        "<meta name=\"description\" content=\"\">\n",
        "<meta charset=\"utf-8\">\n",
        "<meta name=\"author\" content=\"RADYOCIHAN.COM\">\n",
        "<meta http-equiv=\"X-UA-Compatible\" content=\"IE=edge\">    <meta property=\"og:title\"\n",
        "          content=\"Radyo Cihan\" />\n",
        "    <meta property=\"og:url\"\n",
        "          content=\"http://www.radyocihan.com\" />\n",
        "    <meta property=\"og:image\"\n",
        "          content=\"http://www.radyocihan.com/assets/images/frontend/fblogo.png\" />\n",
        "    <link href=\"/assets/components/library/timeline-2.6.1/timeline.css\" media=\"screen\" rel=\"stylesheet\" type=\"text/css\">\n",
        "<link href=\"/assets/components/common/colorbox/colorbox.css\" media=\"screen\" rel=\"stylesheet\" type=\"text/css\">\n",
        "<link href=\"/assets/components/library/bootstrap/css/bootstrap.min.css\" media=\"screen\" rel=\"stylesheet\" type=\"text/css\">\n",
        "<link href=\"/assets/components/library/jquery-ui/css/jquery-ui.min.css\" media=\"screen\" rel=\"stylesheet\" type=\"text/css\">\n",
        "<link href=\"/assets/css/base.css\" media=\"screen\" rel=\"stylesheet\" type=\"text/css\">\n",
        "<link href=\"/assets/components/library/timeline-2.6.1/timeline-theme.css\" media=\"screen\" rel=\"stylesheet\" type=\"text/css\">\n",
        "<link href=\"/assets/components/library/owl-carousel/owl.carousel.css\" media=\"screen\" rel=\"stylesheet\" type=\"text/css\">\n",
        "<link href=\"/assets/components/library/owl-carousel/owl.theme.css\" media=\"screen\" rel=\"stylesheet\" type=\"text/css\">    <script type=\"text/javascript\" src=\"/assets/components/library/jquery/jquery.min.js\"></script>\n",
        "    <script type=\"text/javascript\" src=\"/assets/components/library/jquery-ui/js/jquery-ui.min.js\"></script>\n",
        "\n",
        "    <script type=\"text/javascript\" src=\"/assets/components/common/colorbox/jquery.colorbox-min.js\"></script>\n",
        "\n",
        "    <script type=\"text/javascript\" src=\"/assets/components/library/google-js-api.js\"></script>\n",
        "    <script type=\"text/javascript\" src=\"http://maps.google.com/maps/api/js?v=3&sensor=false\"></script>\n",
        "    <script type=\"text/javascript\"\n",
        "            src=\"/assets/components/library/OpenLayers-2.13.1/OpenLayers.js\"></script>\n",
        "    <script type=\"text/javascript\" src=\"/assets/js/map.js\"></script>\n",
        "\n",
        "        <script type=\"text/javascript\" src=\"/assets/components/library/jquery/jquery.min.js\"></script>\n",
        "<script type=\"text/javascript\" src=\"/assets/components/library/jquery-ui/js/jquery-ui.min.js\"></script>\n",
        "<script type=\"text/javascript\" src=\"/assets/components/library/bootstrap/js/bootstrap.min.js\"></script>\n",
        "<script type=\"text/javascript\" src=\"/assets/components/common/forms/elements/bootstrap-select/assets/lib/js/bootstrap-select.js\"></script>\n",
        "<script type=\"text/javascript\" src=\"/assets/components/common/forms/elements/inputmask/assets/custom/inputmask.init.js\"></script>\n",
        "<script type=\"text/javascript\" src=\"/assets/components/common/forms/elements/inputmask/assets/lib/jquery.inputmask.bundle.min.js\"></script>\n",
        "<script type=\"text/javascript\" src=\"/assets/components/library/google-js-api.js\"></script>\n",
        "<script type=\"text/javascript\" src=\"/assets/components/library/timeline-2.6.1/timeline.js\"></script>\n",
        "<script type=\"text/javascript\" src=\"/assets/components/library/timeline-2.6.1/timeline-locales.js\"></script>\n",
        "<script type=\"text/javascript\" src=\"/assets/components/library/owl-carousel/owl.carousel.min.js\"></script>\n",
        "<script type=\"text/javascript\" src=\"/assets/js/ajax.js\"></script>\n",
        "<script type=\"text/javascript\" src=\"/assets/js/helper.js\"></script>\n",
        "<script type=\"text/javascript\" src=\"/assets/components/common/colorbox/jquery.colorbox-min.js\"></script>\n",
        "<script type=\"text/javascript\">\n",
        "    //<!--\n",
        "    $(document).ready(function() {\n",
        "         $.colorbox({opacity: 0.85, overlayClose: true, escClose: true, speed: 250,inline:true , href:\".popup\",\n",
        "                    onComplete: function () {\n",
        "                            setTimeout($.colorbox.close, 6000)\n",
        "                        }\n",
        "                        }).fadeIn(100);\n",
        "        });\n",
        "        \n",
        "    //-->\n",
        "</script>    \n",
        "    <script type=\"text/javascript\" src=\"/assets/components/library/pusher/jquery.pusher.js\"></script>\n",
        "    <script type=\"text/javascript\" src=\"/assets/js/pusher.js\"></script>\n",
        "</head>\n",
        "<body>\n",
        "<div id=\"videoContainer\"><div id=\"videoPlayer\"></div></div><script src=\"/assets/components/library/flowplayer/flowplayer-3.2.13.min.js\" type=\"text/javascript\"></script><script type=\"text/javascript\">\n",
        "            var playerCall = function(){ $player = $f(\"videoPlayer\", {\"src\": \"/assets/components/library/flowplayer/flowplayer.commercial-3.2.18.swf\", wmode: \"transparent\"},{key:\"#$5fcfc8cf686e530b96c\",wmode:\"transparent\",clip:{live: true,autoPlay:false,provider:\"rtmp\",autoBuffering: false,bufferLength: 1,url:\"radyocihan\",onNetStreamEvent: function(arg0, arg1, arg2) {if(arg1 == \"onTextData\"){$netStreamEvents = new $.NetStreamEvents;$netStreamEvents.onTextData(arg0, arg2);}}},plugins:{rtmp:{url:\"/assets/components/library/flowplayer/flowplayer.rtmp-3.2.13.swf\",netConnectionUrl:\"rtmp://5.44.154.207/cdn/\"}}});}</script><input type='hidden' id='streamName' value='{radyocihan}' /><input type=\"hidden\" id=\"lastStreamTime\" value=\"0\" />\n",
        "<header>\n",
        "    <div class=\"container\">\n",
        "        <div class=\"logo\">\n",
        "            <a href=\"/\"><img\n",
        "                    src=\"/assets/images/frontend/logo.jpg\" alt=\"Radyo Cihan\"/></a>\n",
        "        </div>\n",
        "        <menu>\n",
        "                                                                                        <li >\n",
        "                        <a href=\"/archive/programs\">\n",
        "                            Ar\u015fiv                        </a>\n",
        "                    </li>\n",
        "                                                                                                                            <li class=\"devider\"></li>\n",
        "                                        <li >\n",
        "                        <a href=\"/frequencies\">\n",
        "                            Frekanslar                        </a>\n",
        "                    </li>\n",
        "                                                                                                                            <li class=\"devider\"></li>\n",
        "                                        <li >\n",
        "                        <a href=\"/streaming\">\n",
        "                            Yay\u0131n Ak\u0131\u015f\u0131                        </a>\n",
        "                    </li>\n",
        "                                        </menu>\n",
        "        <form class=\"search\">\n",
        "            <input type=\"text\" name=\"search\" id=\"search\" placeholder=\"Sitei\u00e7i arama\"/>\n",
        "        </form>\n",
        "        <div class=\"clearfix\"></div>\n",
        "    </div>\n",
        "</header>\n",
        "<input type=\"hidden\" id=\"page-player-icon\" value=\"\"/>\n",
        "<input type=\"hidden\" id=\"page-player-title\" value=\"\"/>\n",
        "\n",
        "<div class=\"header-hr\"></div>\n",
        "<div class=\"header-sub-hr\">\n",
        "</div>\n",
        "<div id=\"pusherContent\">\n",
        "    <script type=\"text/javascript\" src=\"/assets/js/ajax.js\"></script>\n",
        "    <script type=\"text/javascript\" src=\"/assets/js/helper.js\"></script>\n",
        "    <script type=\"text/javascript\" src=\"/assets/js/timeline.js\"></script>\n",
        "    <script type=\"text/javascript\">\n",
        "        $(document).ready(function () {\n",
        "            if (typeof $(\"#search\").length != \"undefined\") {\n",
        "                $(\"#search\").autocomplete({\n",
        "                    minLength: 2,\n",
        "                    select: function (event, ui) {\n",
        "                        data = ui.item.value.split('|');\n",
        "                        window.location.replace(data[0]);\n",
        "\n",
        "                        return false;\n",
        "                    },\n",
        "                    source: (function() {\n",
        "                        var xhr;\n",
        "                        return function(request, response) {\n",
        "                            if (xhr) {\n",
        "                                xhr.abort();\n",
        "                            }\n",
        "                            xhr = $.ajax({\n",
        "                                url: '/ajax/handler/Search/getSearch',\n",
        "                                data: {\n",
        "                                    key: request.term\n",
        "                                },\n",
        "                                type: \"POST\",\n",
        "                                dataType: 'json',\n",
        "                                success: function(data) {\n",
        "                                    response(data);\n",
        "                                },\n",
        "                                error: function() {\n",
        "                                    response([]);\n",
        "                                }\n",
        "                            });\n",
        "                        }\n",
        "                    })()\n",
        "                }).data(\"ui-autocomplete\")._renderItem = function (ul, item) {\n",
        "                    return $(\"<li>\").append(\"<a href='#' >\"+item.label+\"</a>\").appendTo(ul);\n",
        "                };\n",
        "            }\n",
        "            if (typeof $(\"#programSlider\").length != \"undefined\") {\n",
        "                $(\"#programSlider\").owlCarousel({\n",
        "                    items: 3,\n",
        "                    itemsDesktop: [1000, 5],\n",
        "                    itemsDesktopSmall: [900, 3],\n",
        "                    itemsTablet: [600, 2],\n",
        "                    itemsMobile: false,\n",
        "                    pagination: false\n",
        "                });\n",
        "                $(\"#sliderNext\").click(function () {\n",
        "                    $(\"#programSlider\").trigger(\"owl.next\");\n",
        "                });\n",
        "                $(\"#sliderPrev\").click(function () {\n",
        "                    $(\"#programSlider\").trigger(\"owl.prev\");\n",
        "                });\n",
        "            }\n",
        "            var ajaxHandler = new $.AjaxHandler();\n",
        "            ajaxHandler.getAjaxComplete();\n",
        "            ajaxHandler.getLocationTree();\n",
        "        });\n",
        "    </script>\n",
        "    <div class=\"container body-main\">\n",
        "\n",
        "\n",
        "        <script type=\"text/javascript\" src=\"/assets/components/library/owl-carousel/owl.carousel.min.js\"></script>\n",
        "\n",
        "<div style=\"display: none;\"><div class=\"popup\" ><html>\r\n",
        "<head>\r\n",
        "\t<title></title>\r\n",
        "</head>\r\n",
        "<body>\r\n",
        "<p><a href=\"http://irmaktv.com.tr/programlar/aksam-cayi/arsiv/8475\" target=\"_blank\"><img alt=\"\" src=\"/uploads/image/image.jpg\" style=\"width: 800px; height: 600px;\" /></a></p>\r\n",
        "</body>\r\n",
        "</html>\r\n",
        "</div></div><div id=\"timelineContainer\">\n",
        "    <div class=\"radio-speaker pull-left\"></div>\n",
        "    <div class=\"timeline-wrapper pull-left\">\n",
        "        <div class=\"icons-top\">\n",
        "            <a href=\"#\" class=\"refresh\" id=\"goToLive\"><span></span></a>\n",
        "            <a href=\"#\" class=\"play\"><span></span></a>\n",
        "            <a href=\"#\" class=\"volume unmuted\" data-mute=\"1\" id=\"volume\">\n",
        "                <span>\n",
        "                <div class=\"volume-container\"></div>\n",
        "                </span>\n",
        "            </a>\n",
        "        </div>\n",
        "        <div class=\"clearfix\"></div>\n",
        "        <div id=\"timeline\"></div>\n",
        "        <div class=\"icons-bottom\">\n",
        "            <a id=\"minus10\" href=\"#\"></a>\n",
        "            <a id=\"minus5\" href=\"#\"></a>\n",
        "            <div id=\"timelineNow\">CANLI</div>\n",
        "            <a id=\"plus5\" href=\"#\"></a>\n",
        "            <a id=\"plus10\" href=\"#\"></a>\n",
        "        </div>\n",
        "    </div>\n",
        "    <div class=\"radio-speaker pull-left\"></div>\n",
        "</div>\n",
        "<div class=\"main-slider\">\n",
        "    <div class=\"left\" id=\"sliderPrev\"></div>\n",
        "    <div class=\"content\">\n",
        "        <div class=\"current-program\"></div>\n",
        "        <div id=\"programSlider\" class=\"owl-carousel\">\n",
        "            <div class='col-xs-4 item'><div class='program-logo'><img data-count='-1' data-start='1423435200' src='/uploads/image/logo/ds.jpg' /></div><div class='program-time'>00:40</div><div class='program-title'>Dua Zaman\u0131</div></div><div class='col-xs-4 item'><div class='program-logo'><img data-count='0' data-start='1423436400' src='/uploads/image/logo/logo-sorularcavaplar.jpg' /></div><div class='program-time'>01:00</div><div class='program-title'>Sorular ve Cevaplar</div></div><div class='col-xs-4 item'><div class='program-logo'><img data-count='1' data-start='1423438200' src='/uploads/image/logo/logo-kuraniklimi-2.jpg' /></div><div class='program-time'>01:30</div><div class='program-title'>Kur\u2019an \u0130klimi </div></div><div class='col-xs-4 item'><div class='program-logo'><img data-count='2' data-start='1423439100' src='/uploads/image/logo/logo-gonuldennagmeler.jpg' /></div><div class='program-time'>01:45</div><div class='program-title'>G\u00f6n\u00fclden Na\u011fmeler</div></div><div class='col-xs-4 item'><div class='program-logo'><img data-count='3' data-start='1423439700' src='/uploads/image/logo/ds.jpg' /></div><div class='program-time'>01:55</div><div class='program-title'>Dua Zaman\u0131</div></div><div class='col-xs-4 item'><div class='program-logo'><img data-count='4' data-start='1423440000' src='/uploads/image/logo/logo-gurbetsoluklari.jpg' /></div><div class='program-time'>02:00<span class='live'>CANLI</span></div><div class='program-title'>Gurbet Soluklar\u0131</div></div><div class='col-xs-4 item'><div class='program-logo'><img data-count='5' data-start='1423442700' src='/uploads/image/logo/ds.jpg' /></div><div class='program-time'>02:45</div><div class='program-title'>Dua Zaman\u0131</div></div><div class='col-xs-4 item'><div class='program-logo'><img data-count='6' data-start='1423443600' src='/uploads/image/logo/logo-kuraniklimi-2.jpg' /></div><div class='program-time'>03:00</div><div class='program-title'>Kur\u2019an \u0130klimi </div></div><div class='col-xs-4 item'><div class='program-logo'><img data-count='7' data-start='1423444500' src='/uploads/image/logo/logo-kursudengonullere.jpg' /></div><div class='program-time'>03:15</div><div class='program-title'>K\u00fcrs\u00fcden G\u00f6n\u00fcllere</div></div><div class='col-xs-4 item'><div class='program-logo'><img data-count='8' data-start='1423448700' src='/uploads/image/logo/ds.jpg' /></div><div class='program-time'>04:25</div><div class='program-title'>Dua Zaman\u0131</div></div><div class='col-xs-4 item'><div class='program-logo'><img data-count='9' data-start='1423449000' src='/uploads/image/logo/logo-gonuldennagmeler.jpg' /></div><div class='program-time'>04:30</div><div class='program-title'>G\u00f6n\u00fclden Na\u011fmeler</div></div><div class='col-xs-4 item'><div class='program-logo'><img data-count='10' data-start='1423449600' src='/uploads/image/logo/ds.jpg' /></div><div class='program-time'>04:40</div><div class='program-title'>Dua Zaman\u0131</div></div><div class='col-xs-4 item'><div class='program-logo'><img data-count='11' data-start='1423449900' src='/uploads/image/logo/ds.jpg' /></div><div class='program-time'>04:45</div><div class='program-title'>Dua Zaman\u0131</div></div><div class='col-xs-4 item'><div class='program-logo'><img data-count='12' data-start='1423450800' src='/uploads/image/logo/logo-hatmiserif.jpg' /></div><div class='program-time'>05:00</div><div class='program-title'>Kuran-\u0131 Hakim (Hatm-i \u015eerif)</div></div><div class='col-xs-4 item'><div class='program-logo'><img data-count='13' data-start='1423455000' src='/uploads/image/logo/logo-sabahezan.jpg' /></div><div class='program-time'>06:10</div><div class='program-title'>Sabah Ezan\u0131 ve Ezan Duas\u0131</div></div><div class='col-xs-4 item'><div class='program-logo'><img data-count='14' data-start='1423455300' src='/uploads/image/logo/logo-namazsohbetleri.jpg' /></div><div class='program-time'>06:15</div><div class='program-title'>Namaz Sohbeti</div></div><div class='col-xs-4 item'><div class='program-logo'><img data-count='15' data-start='1423455900' src='/uploads/image/logo/logo-tesbihatasir.jpg' /></div><div class='program-time'>06:25</div><div class='program-title'>Tesbihat ve A\u015fr</div></div><div class='col-xs-4 item'><div class='program-logo'><img data-count='16' data-start='1423458000' src='/uploads/image/logo/logo-kursudengonullere.jpg' /></div><div class='program-time'>07:00</div><div class='program-title'>K\u00fcrs\u00fcden G\u00f6n\u00fcllere</div></div><div class='col-xs-4 item'><div class='program-logo'><img data-count='17' data-start='1423462200' src='/uploads/image/logo/ds.jpg' /></div><div class='program-time'>08:10</div><div class='program-title'>Dua Zaman\u0131</div></div><div class='col-xs-4 item'><div class='program-logo'><img data-count='18' data-start='1423463400' src='/uploads/image/logo/logo-gurbetsoluklari.jpg' /></div><div class='program-time'>08:30</div><div class='program-title'>Gurbet Soluklar\u0131</div></div><div class='col-xs-4 item'><div class='program-logo'><img data-count='19' data-start='1423466100' src='/uploads/image/logo/ds.jpg' /></div><div class='program-time'>09:15</div><div class='program-title'>Dua Zaman\u0131</div></div><div class='col-xs-4 item'><div class='program-logo'><img data-count='20' data-start='1423466700' src='/uploads/image/logo/logo-herkulnagme.jpg' /></div><div class='program-time'>09:25</div><div class='program-title'>Herk\u00fcl Na\u011fme</div></div><div class='col-xs-4 item'><div class='program-logo'><img data-count='21' data-start='1423467900' src='/uploads/image/logo/logo-minberdenyukselenses.jpg' /></div><div class='program-time'>09:45</div><div class='program-title'>Minberden Y\u00fckselen Ses</div></div><div class='col-xs-4 item'><div class='program-logo'><img data-count='22' data-start='1423469700' src='/uploads/image/logo/logo-gonuldennagmeler.jpg' /></div><div class='program-time'>10:15</div><div class='program-title'>G\u00f6n\u00fclden Na\u011fmeler</div></div><div class='col-xs-4 item'><div class='program-logo'><img data-count='23' data-start='1423470300' src='/uploads/image/logo/ds.jpg' /></div><div class='program-time'>10:25</div><div class='program-title'>Dua Zaman\u0131</div></div><div class='col-xs-4 item'><div class='program-logo'><img data-count='24' data-start='1423470600' src='/uploads/image/logo/logo-kursudengonullere.jpg' /></div><div class='program-time'>10:30</div><div class='program-title'>K\u00fcrs\u00fcden G\u00f6n\u00fcllere</div></div><div class='col-xs-4 item'><div class='program-logo'><img data-count='25' data-start='1423475100' src='/uploads/image/logo/ds.jpg' /></div><div class='program-time'>11:45</div><div class='program-title'>Dua Zaman\u0131</div></div><div class='col-xs-4 item'><div class='program-logo'><img data-count='26' data-start='1423475700' src='/uploads/image/logo/logo-kuraniklimi-2.jpg' /></div><div class='program-time'>11:55</div><div class='program-title'>Kur\u2019an \u0130klimi </div></div><div class='col-xs-4 item'><div class='program-logo'><img data-count='27' data-start='1423476300' src='/uploads/image/logo/logo-herkulnagme.jpg' /></div><div class='program-time'>12:05</div><div class='program-title'>Herk\u00fcl Na\u011fme</div></div><div class='col-xs-4 item'><div class='program-logo'><img data-count='28' data-start='1423477200' src='/uploads/image/logo/logo-ogleezan.jpg' /></div><div class='program-time'>12:20</div><div class='program-title'>\u00d6\u011fle Ezan\u0131 ve Ezan Duas\u0131</div></div><div class='col-xs-4 item'><div class='program-logo'><img data-count='29' data-start='1423477500' src='/uploads/image/logo/logo-namazsohbetleri.jpg' /></div><div class='program-time'>12:25</div><div class='program-title'>Namaz Sohbeti</div></div><div class='col-xs-4 item'><div class='program-logo'><img data-count='30' data-start='1423478100' src='/uploads/image/logo/ds.jpg' /></div><div class='program-time'>12:35</div><div class='program-title'>Dua Zaman\u0131</div></div><div class='col-xs-4 item'><div class='program-logo'><img data-count='31' data-start='1423478700' src='/uploads/image/logo/logo-tesbihatasir.jpg' /></div><div class='program-time'>12:45</div><div class='program-title'>Tesbihat ve A\u015fr</div></div><div class='col-xs-4 item'><div class='program-logo'><img data-count='32' data-start='1423479600' src='/uploads/image/logo/logo-gurbetsoluklari.jpg' /></div><div class='program-time'>13:00</div><div class='program-title'>Gurbet Soluklar\u0131</div></div><div class='col-xs-4 item'><div class='program-logo'><img data-count='33' data-start='1423482300' src='/uploads/image/logo/ds.jpg' /></div><div class='program-time'>13:45</div><div class='program-title'>Dua Zaman\u0131</div></div><div class='col-xs-4 item'><div class='program-logo'><img data-count='34' data-start='1423482900' src='/uploads/image/logo/logo-kuraniklimi-2.jpg' /></div><div class='program-time'>13:55</div><div class='program-title'>Kur\u2019an \u0130klimi </div></div><div class='col-xs-4 item'><div class='program-logo'><img data-count='35' data-start='1423483200' src='/uploads/image/logo/logo-sorularcavaplar.jpg' /></div><div class='program-time'>14:00</div><div class='program-title'>Sorular ve Cevaplar</div></div><div class='col-xs-4 item'><div class='program-logo'><img data-count='36' data-start='1423485000' src='/uploads/image/logo/ds.jpg' /></div><div class='program-time'>14:30</div><div class='program-title'>Dua Zaman\u0131</div></div><div class='col-xs-4 item'><div class='program-logo'><img data-count='37' data-start='1423485600' src='/uploads/image/logo/logo-gonuldennagmeler.jpg' /></div><div class='program-time'>14:40</div><div class='program-title'>G\u00f6n\u00fclden Na\u011fmeler</div></div><div class='col-xs-4 item'><div class='program-logo'><img data-count='38' data-start='1423486200' src='/uploads/image/logo/logo-ikindiezan.jpg' /></div><div class='program-time'>14:50</div><div class='program-title'>\u0130kindi Ezan\u0131 ve Ezan Duas\u0131</div></div><div class='col-xs-4 item'><div class='program-logo'><img data-count='39' data-start='1423486500' src='/uploads/image/logo/logo-namazsohbetleri.jpg' /></div><div class='program-time'>14:55</div><div class='program-title'>Namaz Sohbeti</div></div><div class='col-xs-4 item'><div class='program-logo'><img data-count='40' data-start='1423487400' src='/uploads/image/logo/logo-herkulnagme.jpg' /></div><div class='program-time'>15:10</div><div class='program-title'>Herk\u00fcl Na\u011fme</div></div><div class='col-xs-4 item'><div class='program-logo'><img data-count='41' data-start='1423488300' src='/uploads/image/logo/logo-tesbihatasir.jpg' /></div><div class='program-time'>15:25</div><div class='program-title'>Tesbihat ve A\u015fr</div></div><div class='col-xs-4 item'><div class='program-logo'><img data-count='42' data-start='1423489500' src='/uploads/image/logo/logo-kursudengonullere.jpg' /></div><div class='program-time'>15:45</div><div class='program-title'>K\u00fcrs\u00fcden G\u00f6n\u00fcllere</div></div><div class='col-xs-4 item'><div class='program-logo'><img data-count='43' data-start='1423494000' src='/uploads/image/logo/ds.jpg' /></div><div class='program-time'>17:00</div><div class='program-title'>Dua Zaman\u0131</div></div><div class='col-xs-4 item'><div class='program-logo'><img data-count='44' data-start='1423494900' src='/uploads/image/logo/logo-aksamezan.jpg' /></div><div class='program-time'>17:15</div><div class='program-title'>Ak\u015fam Ezan\u0131 ve Ezan Duas\u0131</div></div><div class='col-xs-4 item'><div class='program-logo'><img data-count='45' data-start='1423495200' src='/uploads/image/logo/logo-namazsohbetleri.jpg' /></div><div class='program-time'>17:20</div><div class='program-title'>Namaz Sohbeti</div></div><div class='col-xs-4 item'><div class='program-logo'><img data-count='46' data-start='1423495800' src='/uploads/image/logo/logo-gonuldennagmeler.jpg' /></div><div class='program-time'>17:30</div><div class='program-title'>G\u00f6n\u00fclden Na\u011fmeler</div></div><div class='col-xs-4 item'><div class='program-logo'><img data-count='47' data-start='1423496400' src='/uploads/image/logo/logo-tesbihatasir.jpg' /></div><div class='program-time'>17:40</div><div class='program-title'>Tesbihat ve A\u015fr</div></div><div class='col-xs-4 item'><div class='program-logo'><img data-count='48' data-start='1423497600' src='/uploads/image/logo/logo-gurbetsoluklari.jpg' /></div><div class='program-time'>18:00</div><div class='program-title'>Gurbet Soluklar\u0131</div></div><div class='col-xs-4 item'><div class='program-logo'><img data-count='49' data-start='1423500000' src='/uploads/image/logo/logo-yatsezan.jpg' /></div><div class='program-time'>18:40</div><div class='program-title'>Yats\u0131 Ezan\u0131 ve Ezan Duas\u0131</div></div><div class='col-xs-4 item'><div class='program-logo'><img data-count='50' data-start='1423500300' src='/uploads/image/logo/logo-namazsohbetleri.jpg' /></div><div class='program-time'>18:45</div><div class='program-title'>Namaz Sohbeti</div></div><div class='col-xs-4 item'><div class='program-logo'><img data-count='51' data-start='1423500900' src='/uploads/image/logo/ds.jpg' /></div><div class='program-time'>18:55</div><div class='program-title'>Dua Zaman\u0131</div></div><div class='col-xs-4 item'><div class='program-logo'><img data-count='52' data-start='1423501800' src='/uploads/image/logo/logo-tesbihatasir.jpg' /></div><div class='program-time'>19:10</div><div class='program-title'>Tesbihat ve A\u015fr</div></div><div class='col-xs-4 item'><div class='program-logo'><img data-count='53' data-start='1423503000' src='/uploads/image/logo/logo-hikmetpenceresi.jpg' /></div><div class='program-time'>19:30</div><div class='program-title'>Hikmet Penceresi</div></div><div class='col-xs-4 item'><div class='program-logo'><img data-count='54' data-start='1423505700' src='/uploads/image/logo/logo-gurbetsoluklari.jpg' /></div><div class='program-time'>20:15</div><div class='program-title'>Gurbet Soluklar\u0131</div></div><div class='col-xs-4 item'><div class='program-logo'><img data-count='55' data-start='1423508400' src='/uploads/image/logo/ds.jpg' /></div><div class='program-time'>21:00</div><div class='program-title'>Dua Zaman\u0131</div></div><div class='col-xs-4 item'><div class='program-logo'><img data-count='56' data-start='1423509600' src='/uploads/image/logo/ds.jpg' /></div><div class='program-time'>21:20</div><div class='program-title'>Dua Zaman\u0131</div></div><div class='col-xs-4 item'><div class='program-logo'><img data-count='57' data-start='1423509900' src='/uploads/image/logo/logo-herkulnagme.jpg' /></div><div class='program-time'>21:25</div><div class='program-title'>Herk\u00fcl Na\u011fme</div></div><div class='col-xs-4 item'><div class='program-logo'><img data-count='58' data-start='1423511100' src='/uploads/image/logo/cm-logo.jpg' /></div><div class='program-time'>21:45</div><div class='program-title'>\u00c7a\u011f\u0131n Muhacirleri</div></div><div class='col-xs-4 item'><div class='program-logo'><img data-count='59' data-start='1423513800' src='/uploads/image/logo/logo-minberdenyukselenses.jpg' /></div><div class='program-time'>22:30</div><div class='program-title'>Minberden Y\u00fckselen Ses</div></div><div class='col-xs-4 item'><div class='program-logo'><img data-count='60' data-start='1423515300' src='/uploads/image/logo/logo-kuraniklimi-2.jpg' /></div><div class='program-time'>22:55</div><div class='program-title'>Kur\u2019an \u0130klimi </div></div><div class='col-xs-4 item'><div class='program-logo'><img data-count='61' data-start='1423515600' src='/uploads/image/logo/logo.jpg' /></div><div class='program-time'>23:00</div><div class='program-title'>Dua Saati</div></div><div class='col-xs-4 item'><div class='program-logo'><img data-count='62' data-start='1423517400' src='/uploads/image/logo/logo-kursudengonullere.jpg' /></div><div class='program-time'>23:30</div><div class='program-title'>K\u00fcrs\u00fcden G\u00f6n\u00fcllere</div></div><div class='col-xs-4 item'><div class='program-logo'><img data-count='63' data-start='1423521600' src='/uploads/image/logo/ds.jpg' /></div><div class='program-time'>00:40</div><div class='program-title'>Dua Zaman\u0131</div></div><div class='col-xs-4 item'><div class='program-logo'><img data-count='64' data-start='1423522800' src='/uploads/image/logo/logo-sorularcavaplar.jpg' /></div><div class='program-time'>01:00</div><div class='program-title'>Sorular ve Cevaplar</div></div><div class='col-xs-4 item'><div class='program-logo'><img data-count='65' data-start='1423524600' src='/uploads/image/logo/logo-kuraniklimi-2.jpg' /></div><div class='program-time'>01:30</div><div class='program-title'>Kur\u2019an \u0130klimi </div></div><div class='col-xs-4 item'><div class='program-logo'><img data-count='66' data-start='1423525500' src='/uploads/image/logo/logo-gonuldennagmeler.jpg' /></div><div class='program-time'>01:45</div><div class='program-title'>G\u00f6n\u00fclden Na\u011fmeler</div></div><div class='col-xs-4 item'><div class='program-logo'><img data-count='67' data-start='1423526100' src='/uploads/image/logo/ds.jpg' /></div><div class='program-time'>01:55</div><div class='program-title'>Dua Zaman\u0131</div></div><div class='col-xs-4 item'><div class='program-logo'><img data-count='68' data-start='1423526400' src='/uploads/image/logo/logo-gurbetsoluklari.jpg' /></div><div class='program-time'>02:00</div><div class='program-title'>Gurbet Soluklar\u0131</div></div><div class='col-xs-4 item'><div class='program-logo'><img data-count='69' data-start='1423529100' src='/uploads/image/logo/ds.jpg' /></div><div class='program-time'>02:45</div><div class='program-title'>Dua Zaman\u0131</div></div><div class='col-xs-4 item'><div class='program-logo'><img data-count='70' data-start='1423530000' src='/uploads/image/logo/logo-kuraniklimi-2.jpg' /></div><div class='program-time'>03:00</div><div class='program-title'>Kur\u2019an \u0130klimi </div></div><div class='col-xs-4 item'><div class='program-logo'><img data-count='71' data-start='1423530900' src='/uploads/image/logo/logo-kursudengonullere.jpg' /></div><div class='program-time'>03:15</div><div class='program-title'>K\u00fcrs\u00fcden G\u00f6n\u00fcllere</div></div><div class='col-xs-4 item'><div class='program-logo'><img data-count='72' data-start='1423535100' src='/uploads/image/logo/ds.jpg' /></div><div class='program-time'>04:25</div><div class='program-title'>Dua Zaman\u0131</div></div><div class='col-xs-4 item'><div class='program-logo'><img data-count='73' data-start='1423535400' src='/uploads/image/logo/logo-gonuldennagmeler.jpg' /></div><div class='program-time'>04:30</div><div class='program-title'>G\u00f6n\u00fclden Na\u011fmeler</div></div><div class='col-xs-4 item'><div class='program-logo'><img data-count='74' data-start='1423536000' src='/uploads/image/logo/ds.jpg' /></div><div class='program-time'>04:40</div><div class='program-title'>Dua Zaman\u0131</div></div><div class='col-xs-4 item'><div class='program-logo'><img data-count='75' data-start='1423536300' src='/uploads/image/logo/ds.jpg' /></div><div class='program-time'>04:45</div><div class='program-title'>Dua Zaman\u0131</div></div><div class='col-xs-4 item'><div class='program-logo'><img data-count='76' data-start='1423537200' src='/uploads/image/logo/logo-hatmiserif.jpg' /></div><div class='program-time'>05:00</div><div class='program-title'>Kuran-\u0131 Hakim (Hatm-i \u015eerif)</div></div><div class='col-xs-4 item'><div class='program-logo'><img data-count='77' data-start='1423541400' src='/uploads/image/logo/logo-sabahezan.jpg' /></div><div class='program-time'>06:10</div><div class='program-title'>Sabah Ezan\u0131 ve Ezan Duas\u0131</div></div><div class='col-xs-4 item'><div class='program-logo'><img data-count='78' data-start='1423541700' src='/uploads/image/logo/logo-namazsohbetleri.jpg' /></div><div class='program-time'>06:15</div><div class='program-title'>Namaz Sohbeti</div></div><div class='col-xs-4 item'><div class='program-logo'><img data-count='79' data-start='1423542300' src='/uploads/image/logo/logo-tesbihatasir.jpg' /></div><div class='program-time'>06:25</div><div class='program-title'>Tesbihat ve A\u015fr</div></div><div class='col-xs-4 item'><div class='program-logo'><img data-count='80' data-start='1423544400' src='/uploads/image/logo/logo-kursudengonullere.jpg' /></div><div class='program-time'>07:00</div><div class='program-title'>K\u00fcrs\u00fcden G\u00f6n\u00fcllere</div></div><div class='col-xs-4 item'><div class='program-logo'><img data-count='81' data-start='1423548600' src='/uploads/image/logo/ds.jpg' /></div><div class='program-time'>08:10</div><div class='program-title'>Dua Zaman\u0131</div></div><div class='col-xs-4 item'><div class='program-logo'><img data-count='82' data-start='1423549800' src='/uploads/image/logo/logo-gurbetsoluklari.jpg' /></div><div class='program-time'>08:30</div><div class='program-title'>Gurbet Soluklar\u0131</div></div><div class='col-xs-4 item'><div class='program-logo'><img data-count='83' data-start='1423552500' src='/uploads/image/logo/ds.jpg' /></div><div class='program-time'>09:15</div><div class='program-title'>Dua Zaman\u0131</div></div><div class='col-xs-4 item'><div class='program-logo'><img data-count='84' data-start='1423553100' src='/uploads/image/logo/logo-herkulnagme.jpg' /></div><div class='program-time'>09:25</div><div class='program-title'>Herk\u00fcl Na\u011fme</div></div><div class='col-xs-4 item'><div class='program-logo'><img data-count='85' data-start='1423554300' src='/uploads/image/logo/logo-minberdenyukselenses.jpg' /></div><div class='program-time'>09:45</div><div class='program-title'>Minberden Y\u00fckselen Ses</div></div><div class='col-xs-4 item'><div class='program-logo'><img data-count='86' data-start='1423556100' src='/uploads/image/logo/logo-gonuldennagmeler.jpg' /></div><div class='program-time'>10:15</div><div class='program-title'>G\u00f6n\u00fclden Na\u011fmeler</div></div><div class='col-xs-4 item'><div class='program-logo'><img data-count='87' data-start='1423556700' src='/uploads/image/logo/ds.jpg' /></div><div class='program-time'>10:25</div><div class='program-title'>Dua Zaman\u0131</div></div><div class='col-xs-4 item'><div class='program-logo'><img data-count='88' data-start='1423557000' src='/uploads/image/logo/logo-kursudengonullere.jpg' /></div><div class='program-time'>10:30</div><div class='program-title'>K\u00fcrs\u00fcden G\u00f6n\u00fcllere</div></div><div class='col-xs-4 item'><div class='program-logo'><img data-count='89' data-start='1423561500' src='/uploads/image/logo/ds.jpg' /></div><div class='program-time'>11:45</div><div class='program-title'>Dua Zaman\u0131</div></div><div class='col-xs-4 item'><div class='program-logo'><img data-count='90' data-start='1423562100' src='/uploads/image/logo/logo-kuraniklimi-2.jpg' /></div><div class='program-time'>11:55</div><div class='program-title'>Kur\u2019an \u0130klimi </div></div><div class='col-xs-4 item'><div class='program-logo'><img data-count='91' data-start='1423562700' src='/uploads/image/logo/logo-herkulnagme.jpg' /></div><div class='program-time'>12:05</div><div class='program-title'>Herk\u00fcl Na\u011fme</div></div><div class='col-xs-4 item'><div class='program-logo'><img data-count='92' data-start='1423563600' src='/uploads/image/logo/logo-ogleezan.jpg' /></div><div class='program-time'>12:20</div><div class='program-title'>\u00d6\u011fle Ezan\u0131 ve Ezan Duas\u0131</div></div><div class='col-xs-4 item'><div class='program-logo'><img data-count='93' data-start='1423563900' src='/uploads/image/logo/logo-namazsohbetleri.jpg' /></div><div class='program-time'>12:25</div><div class='program-title'>Namaz Sohbeti</div></div><div class='col-xs-4 item'><div class='program-logo'><img data-count='94' data-start='1423564500' src='/uploads/image/logo/ds.jpg' /></div><div class='program-time'>12:35</div><div class='program-title'>Dua Zaman\u0131</div></div><div class='col-xs-4 item'><div class='program-logo'><img data-count='95' data-start='1423565100' src='/uploads/image/logo/logo-tesbihatasir.jpg' /></div><div class='program-time'>12:45</div><div class='program-title'>Tesbihat ve A\u015fr</div></div><div class='col-xs-4 item'><div class='program-logo'><img data-count='96' data-start='1423566000' src='/uploads/image/logo/logo-gurbetsoluklari.jpg' /></div><div class='program-time'>13:00</div><div class='program-title'>Gurbet Soluklar\u0131</div></div><div class='col-xs-4 item'><div class='program-logo'><img data-count='97' data-start='1423568700' src='/uploads/image/logo/ds.jpg' /></div><div class='program-time'>13:45</div><div class='program-title'>Dua Zaman\u0131</div></div><div class='col-xs-4 item'><div class='program-logo'><img data-count='98' data-start='1423569300' src='/uploads/image/logo/logo-kuraniklimi-2.jpg' /></div><div class='program-time'>13:55</div><div class='program-title'>Kur\u2019an \u0130klimi </div></div><div class='col-xs-4 item'><div class='program-logo'><img data-count='99' data-start='1423569600' src='/uploads/image/logo/logo-sorularcavaplar.jpg' /></div><div class='program-time'>14:00</div><div class='program-title'>Sorular ve Cevaplar</div></div><div class='col-xs-4 item'><div class='program-logo'><img data-count='100' data-start='1423571400' src='/uploads/image/logo/ds.jpg' /></div><div class='program-time'>14:30</div><div class='program-title'>Dua Zaman\u0131</div></div><div class='col-xs-4 item'><div class='program-logo'><img data-count='101' data-start='1423572000' src='/uploads/image/logo/logo-gonuldennagmeler.jpg' /></div><div class='program-time'>14:40</div><div class='program-title'>G\u00f6n\u00fclden Na\u011fmeler</div></div><div class='col-xs-4 item'><div class='program-logo'><img data-count='102' data-start='1423572600' src='/uploads/image/logo/logo-ikindiezan.jpg' /></div><div class='program-time'>14:50</div><div class='program-title'>\u0130kindi Ezan\u0131 ve Ezan Duas\u0131</div></div><div class='col-xs-4 item'><div class='program-logo'><img data-count='103' data-start='1423572900' src='/uploads/image/logo/logo-namazsohbetleri.jpg' /></div><div class='program-time'>14:55</div><div class='program-title'>Namaz Sohbeti</div></div><div class='col-xs-4 item'><div class='program-logo'><img data-count='104' data-start='1423573800' src='/uploads/image/logo/logo-herkulnagme.jpg' /></div><div class='program-time'>15:10</div><div class='program-title'>Herk\u00fcl Na\u011fme</div></div><div class='col-xs-4 item'><div class='program-logo'><img data-count='105' data-start='1423574700' src='/uploads/image/logo/logo-tesbihatasir.jpg' /></div><div class='program-time'>15:25</div><div class='program-title'>Tesbihat ve A\u015fr</div></div><div class='col-xs-4 item'><div class='program-logo'><img data-count='106' data-start='1423575900' src='/uploads/image/logo/logo-kursudengonullere.jpg' /></div><div class='program-time'>15:45</div><div class='program-title'>K\u00fcrs\u00fcden G\u00f6n\u00fcllere</div></div><div class='col-xs-4 item'><div class='program-logo'><img data-count='107' data-start='1423580400' src='/uploads/image/logo/ds.jpg' /></div><div class='program-time'>17:00</div><div class='program-title'>Dua Zaman\u0131</div></div><div class='col-xs-4 item'><div class='program-logo'><img data-count='108' data-start='1423581300' src='/uploads/image/logo/logo-aksamezan.jpg' /></div><div class='program-time'>17:15</div><div class='program-title'>Ak\u015fam Ezan\u0131 ve Ezan Duas\u0131</div></div><div class='col-xs-4 item'><div class='program-logo'><img data-count='109' data-start='1423581600' src='/uploads/image/logo/logo-namazsohbetleri.jpg' /></div><div class='program-time'>17:20</div><div class='program-title'>Namaz Sohbeti</div></div><div class='col-xs-4 item'><div class='program-logo'><img data-count='110' data-start='1423582200' src='/uploads/image/logo/logo-gonuldennagmeler.jpg' /></div><div class='program-time'>17:30</div><div class='program-title'>G\u00f6n\u00fclden Na\u011fmeler</div></div><div class='col-xs-4 item'><div class='program-logo'><img data-count='111' data-start='1423582800' src='/uploads/image/logo/logo-tesbihatasir.jpg' /></div><div class='program-time'>17:40</div><div class='program-title'>Tesbihat ve A\u015fr</div></div><div class='col-xs-4 item'><div class='program-logo'><img data-count='112' data-start='1423584000' src='/uploads/image/logo/logo-gurbetsoluklari.jpg' /></div><div class='program-time'>18:00</div><div class='program-title'>Gurbet Soluklar\u0131</div></div><div class='col-xs-4 item'><div class='program-logo'><img data-count='113' data-start='1423586400' src='/uploads/image/logo/logo-yatsezan.jpg' /></div><div class='program-time'>18:40</div><div class='program-title'>Yats\u0131 Ezan\u0131 ve Ezan Duas\u0131</div></div><div class='col-xs-4 item'><div class='program-logo'><img data-count='114' data-start='1423586700' src='/uploads/image/logo/logo-namazsohbetleri.jpg' /></div><div class='program-time'>18:45</div><div class='program-title'>Namaz Sohbeti</div></div><div class='col-xs-4 item'><div class='program-logo'><img data-count='115' data-start='1423587300' src='/uploads/image/logo/ds.jpg' /></div><div class='program-time'>18:55</div><div class='program-title'>Dua Zaman\u0131</div></div><div class='col-xs-4 item'><div class='program-logo'><img data-count='116' data-start='1423588200' src='/uploads/image/logo/logo-tesbihatasir.jpg' /></div><div class='program-time'>19:10</div><div class='program-title'>Tesbihat ve A\u015fr</div></div><div class='col-xs-4 item'><div class='program-logo'><img data-count='117' data-start='1423589400' src='/uploads/image/logo/logo-hikmetpenceresi.jpg' /></div><div class='program-time'>19:30</div><div class='program-title'>Hikmet Penceresi</div></div><div class='col-xs-4 item'><div class='program-logo'><img data-count='118' data-start='1423592100' src='/uploads/image/logo/logo-gurbetsoluklari.jpg' /></div><div class='program-time'>20:15</div><div class='program-title'>Gurbet Soluklar\u0131</div></div><div class='col-xs-4 item'><div class='program-logo'><img data-count='119' data-start='1423594800' src='/uploads/image/logo/ds.jpg' /></div><div class='program-time'>21:00</div><div class='program-title'>Dua Zaman\u0131</div></div><div class='col-xs-4 item'><div class='program-logo'><img data-count='120' data-start='1423596000' src='/uploads/image/logo/ds.jpg' /></div><div class='program-time'>21:20</div><div class='program-title'>Dua Zaman\u0131</div></div><div class='col-xs-4 item'><div class='program-logo'><img data-count='121' data-start='1423596300' src='/uploads/image/logo/logo-herkulnagme.jpg' /></div><div class='program-time'>21:25</div><div class='program-title'>Herk\u00fcl Na\u011fme</div></div><div class='col-xs-4 item'><div class='program-logo'><img data-count='122' data-start='1423597500' src='/uploads/image/logo/nh-logo.jpg' /></div><div class='program-time'>21:45</div><div class='program-title'>Nurdan H\u00fczmeler</div></div><div class='col-xs-4 item'><div class='program-logo'><img data-count='123' data-start='1423599300' src='/uploads/image/logo/logo-kuraniklimi-2.jpg' /></div><div class='program-time'>22:15</div><div class='program-title'>Kur\u2019an \u0130klimi </div></div><div class='col-xs-4 item'><div class='program-logo'><img data-count='124' data-start='1423600200' src='/uploads/image/logo/logo-minberdenyukselenses.jpg' /></div><div class='program-time'>22:30</div><div class='program-title'>Minberden Y\u00fckselen Ses</div></div><div class='col-xs-4 item'><div class='program-logo'><img data-count='125' data-start='1423601700' src='/uploads/image/logo/logo-kuraniklimi-2.jpg' /></div><div class='program-time'>22:55</div><div class='program-title'>Kur\u2019an \u0130klimi </div></div><div class='col-xs-4 item'><div class='program-logo'><img data-count='126' data-start='1423602000' src='/uploads/image/logo/logo.jpg' /></div><div class='program-time'>23:00</div><div class='program-title'>Dua Saati</div></div><div class='col-xs-4 item'><div class='program-logo'><img data-count='127' data-start='1423603800' src='/uploads/image/logo/logo-kursudengonullere.jpg' /></div><div class='program-time'>23:30</div><div class='program-title'>K\u00fcrs\u00fcden G\u00f6n\u00fcllere</div></div>        </div>\n",
        "    </div>\n",
        "    <div class=\"right\" id=\"sliderNext\"></div>\n",
        "</div>\n",
        "<script type='text/javascript'>$(document).ready(function() {\n",
        "            $('#programSlider').data('owlCarousel').goTo(4);\n",
        "            });\n",
        "            </script><script>\n",
        "    $(document).ready(function(){\n",
        "        $(\"html, body\").animate({ scrollTop: 0},1500);\n",
        "    });\n",
        "</script>\n",
        "        <div class=\"clearfix\"></div>\n",
        "    </div>\n",
        "    <script>\n",
        "        (function(i,s,o,g,r,a,m){i['GoogleAnalyticsObject']=r;i[r]=i[r]||function(){\n",
        "            (i[r].q=i[r].q||[]).push(arguments)},i[r].l=1*new Date();a=s.createElement(o),\n",
        "            m=s.getElementsByTagName(o)[0];a.async=1;a.src=g;m.parentNode.insertBefore(a,m)\n",
        "        })(window,document,'script','//www.google-analytics.com/analytics.js','ga');\n",
        "\n",
        "        ga('create', 'UA-40064732-1', 'radyocihan.com');\n",
        "        ga('send', 'pageview');\n",
        "\n",
        "    </script>\n",
        "</div>\n",
        "<div class=\"clearfix\"></div>\n",
        "<footer>\n",
        "    <div class=\"bg\"></div>\n",
        "    <div class=\"container\">\n",
        "        <div class=\"row\">\n",
        "            <div class=\"col-xs-7\">\n",
        "                <h1 class=\"new-uploaded\">Yeni Y\u00fcklenenler</h1>\n",
        "                <menu class='program-list'><li><a href='/archive/list/kuersue-11/kuersue-82/0/ey-insan-kendini-bil-'>K\u00fcrs\u00fc - Ey \u0130nsan, Kendini Bil!</a></li><li><a href='/archive/list/gurbet-soluklari-1/Gurbet-Soluklari/0/iman-serasi-ve-en-karli-ticaret-17409'>Gurbet Soluklar\u0131 - \u0130man Seras\u0131 ve En K\u00e2rl\u0131 Ticaret</a></li><li><a href='/archive/list/hikmet-penceresi-12/hikmet-penceresi-14808/0/hasir-akidesinin-faydalari-769-b-'>Hikmet Penceresi - Ha\u015fir Akidesinin Faydalar\u0131 769 B</a></li><li><a href='/archive/list/hikmet-penceresi-12/hikmet-penceresi-14808/0/hasir-akidesinin-faydalari-769-a-'>Hikmet Penceresi - Ha\u015fir Akidesinin Faydalar\u0131 769 A</a></li><li><a href='/archive/list/gecmisten-izler-26/gecmisten-izler-14830/0/abdullah-aymaz-a-39-boeluem-'>Ge\u00e7mi\u015ften \u0130zler - Abdullah Aymaz A (39. B\u00f6l\u00fcm)</a></li><li><a href='/archive/list/nurdan-huezmeler-28/nurdan-huezmeler-14831/0/19-lema-iktisat-risalesi-7-nuekte-43-boeluem-'>Nurdan H\u00fczmeler - 19. Lema \u0130ktisat Risalesi 7. N\u00fckte (43. B\u00f6l\u00fcm)</a></li><li><a href='/archive/list/goenuelden-nagmeler-16/goenuelden-nagmeler-35/0/allahin-affetmeyecegi-guenah-yoktur-'>G\u00f6n\u00fclden Na\u011fmeler - Allah'\u0131n Affetmeyece\u011fi G\u00fcnah Yoktur</a></li></menu>            </div>\n",
        "            <div class=\"col-xs-2\">\n",
        "                <h1>Radyo Cihan</h1>\n",
        "                <menu>\n",
        "                        <li >\n",
        "                <a class=\"nav-header\" href=\"/frequencies\">\n",
        "                    Frekanslar                </a>\n",
        "            </li>\n",
        "                                <li >\n",
        "                <a class=\"nav-header\" href=\"/streaming\">\n",
        "                    Yay\u0131n Ak\u0131\u015f\u0131                </a>\n",
        "            </li>\n",
        "                                <li >\n",
        "                <a class=\"nav-header\" href=\"/contact\">\n",
        "                    \u0130leti\u015fim                </a>\n",
        "            </li>\n",
        "                                <li >\n",
        "                <a class=\"nav-header\" href=\"/docs/info\">\n",
        "                    K\u00fcnye                </a>\n",
        "            </li>\n",
        "                                <li >\n",
        "                <a class=\"nav-header\" href=\"/viewers\">\n",
        "                    \u0130zleyici Formu                </a>\n",
        "            </li>\n",
        "            </menu>\n",
        "            </div>\n",
        "            <div class=\"col-xs-3\" style=\"text-align: center;\">\n",
        "                <a class=\"icon-facebook\" href=\"http://www.facebook.com/RadyoCihan\" target=\"_blank\">\n",
        "                    <img src=\"/assets/images/frontend/icons/facebook.png\"\n",
        "                         alt=\"Facebook\"/>\n",
        "                </a>\n",
        "                <a class=\"icon-twitter\" target=\"_blank\" href=\"https://twitter.com/radyocihan\">\n",
        "                    <img src=\"/assets/images/frontend/icons/twitter.png\" alt=\"Twitter\"/>\n",
        "                </a>\n",
        "                <img class=\"slogan\" src=\"/assets/images/frontend/slogan.png\"\n",
        "                     alt=\"Bu Sesi Herkes Duymal\u0131\"/>\n",
        "\n",
        "                <div class=\"clearfix\"></div>\n",
        "                <a class=\"btn-google-play\" href=\"https://play.google.com/store/apps/details?id=com.radyocihan.android\" target=\"_blank\">\n",
        "                    <img src=\"/assets/images/frontend/icons/google-play.png\"\n",
        "                         alt=\"Android Uygulamas\u0131\"/>\n",
        "                </a>\n",
        "                <a class=\"btn-app-store\" target=\"_blank\" href=\"http://itunes.apple.com/tr/app/radyo-cihan-bu-sesi-herkes/id475893356?mt=8\">\n",
        "                    <img src=\"/assets/images/frontend/icons/app-store.png\"\n",
        "                         alt=\"Iphone Uygulamas\u0131\"/>\n",
        "                </a>\n",
        "            </div>\n",
        "        </div>\n",
        "    </div>\n",
        "</footer>\n",
        "\n",
        "</body>\n",
        "</html>\n",
        "\n"
       ]
      }
     ],
     "prompt_number": 8
    },
    {
     "cell_type": "code",
     "collapsed": false,
     "input": [
      "# Get only the length\n",
      "print \"Get the length :\", len(html)"
     ],
     "language": "python",
     "metadata": {},
     "outputs": [
      {
       "output_type": "stream",
       "stream": "stdout",
       "text": [
        "Get the length : 47093\n"
       ]
      }
     ],
     "prompt_number": 9
    }
   ],
   "metadata": {}
  }
 ]
}