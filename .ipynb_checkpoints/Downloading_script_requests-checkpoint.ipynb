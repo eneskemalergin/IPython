{
 "metadata": {
  "name": "",
  "signature": "sha256:341181fd4063e5aeeb0ed02f9b22ec176e96c4492a080139ddfb3096ea76da25"
 },
 "nbformat": 3,
 "nbformat_minor": 0,
 "worksheets": [
  {
   "cells": [
    {
     "cell_type": "code",
     "collapsed": false,
     "input": [
      "url = 'http://www.blog.pythonlibrary.org/wp-content/uploads/2012/06/wxDbViewer.zip'\n"
     ],
     "language": "python",
     "metadata": {},
     "outputs": []
    },
    {
     "cell_type": "code",
     "collapsed": false,
     "input": [
      "import requests\n",
      "import zipfile\n",
      "print (\"downloading with requests\")\n",
      "r = requests.get(url)\n",
      "with open(\"code3.zip\", \"wb\") as code:\n",
      "    code.write(r.content)\n",
      "z = zipfile.ZipFile(open_zip)\n",
      "for i in z.namelist():\n",
      "    outpath = \"C:\\\\Users\\\\Pc-41\\\\Desktop\\\\Ipython\"\n",
      "    z.extract(i, outpath)\n",
      "open_zip.close()\n",
      "# for Extracting everything itn that folder..\n",
      "# with zipfile.ZipFile('test.zip', 'r') as z_file:\n",
      "#    z_file.extractall(\"C:\\\\Users\\\\Pc-41\\\\Desktop\\\\Ipython\")"
     ],
     "language": "python",
     "metadata": {},
     "outputs": []
    }
   ],
   "metadata": {}
  }
 ]
}