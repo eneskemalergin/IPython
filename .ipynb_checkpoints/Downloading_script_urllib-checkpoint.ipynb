{
 "metadata": {
  "name": "",
  "signature": "sha256:0a11ab4065e785a59497aef6a2d7d4b7010d4d9bec735af87d5798f0d853ad3f"
 },
 "nbformat": 3,
 "nbformat_minor": 0,
 "worksheets": [
  {
   "cells": [
    {
     "cell_type": "code",
     "collapsed": false,
     "input": [
      "url = 'http://www.blog.pythonlibrary.org/wp-content/uploads/2012/06/wxDbViewer.zip'"
     ],
     "language": "python",
     "metadata": {},
     "outputs": [],
     "prompt_number": 1
    },
    {
     "cell_type": "code",
     "collapsed": false,
     "input": [
      "import urllib\n",
      "import zipfile\n",
      "print(\"downloading with urllib\")\n",
      "urllib.urlretrieve(url, \"code.zip\")\n",
      "open_zip = open('code.zip', 'rb')\n",
      "z = zipfile.ZipFile(open_zip)\n",
      "for i in z.namelist():\n",
      "    outpath = \"C:\\\\Users\\\\Pc-41\\\\Desktop\\\\Ipython\"\n",
      "    z.extract(i, outpath)\n",
      "open_zip.close()\n",
      "# for Extracting everything itn that folder..\n",
      "# with zipfile.ZipFile('test.zip', 'r') as z_file:\n",
      "#    z_file.extractall(\"C:\\\\Users\\\\Pc-41\\\\Desktop\\\\Ipython\")"
     ],
     "language": "python",
     "metadata": {},
     "outputs": [
      {
       "output_type": "stream",
       "stream": "stdout",
       "text": [
        "downloading with urllib\n"
       ]
      }
     ],
     "prompt_number": 3
    },
    {
     "cell_type": "code",
     "collapsed": false,
     "input": [],
     "language": "python",
     "metadata": {},
     "outputs": []
    }
   ],
   "metadata": {}
  }
 ]
}